{
 "cells": [
  {
   "cell_type": "markdown",
   "metadata": {},
   "source": [
    "# Creation of Datasets"
   ]
  },
  {
   "cell_type": "markdown",
   "metadata": {},
   "source": [
    "## Importing starter packages"
   ]
  },
  {
   "cell_type": "code",
   "execution_count": 1,
   "metadata": {},
   "outputs": [],
   "source": [
    "import pandas as pd\n",
    "import numpy as np\n",
    "from matplotlib import pyplot as plt\n",
    "import seaborn as sns\n",
    "import time\n",
    "from pybaseball import *"
   ]
  },
  {
   "cell_type": "markdown",
   "metadata": {},
   "source": [
    "## Creating base datasets"
   ]
  },
  {
   "cell_type": "code",
   "execution_count": 2,
   "metadata": {},
   "outputs": [
    {
     "ename": "IndexError",
     "evalue": "list index out of range",
     "output_type": "error",
     "traceback": [
      "\u001b[1;31m---------------------------------------------------------------------------\u001b[0m",
      "\u001b[1;31mIndexError\u001b[0m                                Traceback (most recent call last)",
      "\u001b[1;32m<ipython-input-2-2ca813f4d6e0>\u001b[0m in \u001b[0;36m<module>\u001b[1;34m\u001b[0m\n\u001b[0;32m      4\u001b[0m \u001b[0mBattingStats2010\u001b[0m\u001b[1;33m[\u001b[0m\u001b[1;34m'year_ID'\u001b[0m\u001b[1;33m]\u001b[0m \u001b[1;33m=\u001b[0m \u001b[1;36m2010\u001b[0m\u001b[1;33m\u001b[0m\u001b[1;33m\u001b[0m\u001b[0m\n\u001b[0;32m      5\u001b[0m \u001b[1;33m\u001b[0m\u001b[0m\n\u001b[1;32m----> 6\u001b[1;33m \u001b[0mBattingStats2011\u001b[0m \u001b[1;33m=\u001b[0m \u001b[0mbatting_stats_range\u001b[0m\u001b[1;33m(\u001b[0m\u001b[1;34m'2011-01-01'\u001b[0m\u001b[1;33m,\u001b[0m \u001b[1;34m'2011-12-31'\u001b[0m\u001b[1;33m)\u001b[0m\u001b[1;33m\u001b[0m\u001b[1;33m\u001b[0m\u001b[0m\n\u001b[0m\u001b[0;32m      7\u001b[0m \u001b[0mtime\u001b[0m\u001b[1;33m.\u001b[0m\u001b[0msleep\u001b[0m\u001b[1;33m(\u001b[0m\u001b[1;36m5\u001b[0m\u001b[1;33m)\u001b[0m\u001b[1;33m\u001b[0m\u001b[1;33m\u001b[0m\u001b[0m\n\u001b[0;32m      8\u001b[0m \u001b[0mBattingStats2011\u001b[0m\u001b[1;33m[\u001b[0m\u001b[1;34m'year_ID'\u001b[0m\u001b[1;33m]\u001b[0m \u001b[1;33m=\u001b[0m \u001b[1;36m2011\u001b[0m\u001b[1;33m\u001b[0m\u001b[1;33m\u001b[0m\u001b[0m\n",
      "\u001b[1;32m~\\Anaconda\\lib\\site-packages\\pybaseball\\league_batting_stats.py\u001b[0m in \u001b[0;36mbatting_stats_range\u001b[1;34m(start_dt, end_dt)\u001b[0m\n\u001b[0;32m     58\u001b[0m     \u001b[1;31m# retrieve html from baseball reference\u001b[0m\u001b[1;33m\u001b[0m\u001b[1;33m\u001b[0m\u001b[1;33m\u001b[0m\u001b[0m\n\u001b[0;32m     59\u001b[0m     \u001b[0msoup\u001b[0m \u001b[1;33m=\u001b[0m \u001b[0mget_soup\u001b[0m\u001b[1;33m(\u001b[0m\u001b[0mstart_dt_date\u001b[0m\u001b[1;33m,\u001b[0m \u001b[0mend_dt_date\u001b[0m\u001b[1;33m)\u001b[0m\u001b[1;33m\u001b[0m\u001b[1;33m\u001b[0m\u001b[0m\n\u001b[1;32m---> 60\u001b[1;33m     \u001b[0mtable\u001b[0m \u001b[1;33m=\u001b[0m \u001b[0mget_table\u001b[0m\u001b[1;33m(\u001b[0m\u001b[0msoup\u001b[0m\u001b[1;33m)\u001b[0m\u001b[1;33m\u001b[0m\u001b[1;33m\u001b[0m\u001b[0m\n\u001b[0m\u001b[0;32m     61\u001b[0m     \u001b[0mtable\u001b[0m \u001b[1;33m=\u001b[0m \u001b[0mtable\u001b[0m\u001b[1;33m.\u001b[0m\u001b[0mdropna\u001b[0m\u001b[1;33m(\u001b[0m\u001b[0mhow\u001b[0m\u001b[1;33m=\u001b[0m\u001b[1;34m'all'\u001b[0m\u001b[1;33m)\u001b[0m  \u001b[1;31m# drop if all columns are NA\u001b[0m\u001b[1;33m\u001b[0m\u001b[1;33m\u001b[0m\u001b[0m\n\u001b[0;32m     62\u001b[0m     \u001b[1;31m# scraped data is initially in string format.\u001b[0m\u001b[1;33m\u001b[0m\u001b[1;33m\u001b[0m\u001b[1;33m\u001b[0m\u001b[0m\n",
      "\u001b[1;32m~\\Anaconda\\lib\\site-packages\\pybaseball\\league_batting_stats.py\u001b[0m in \u001b[0;36mget_table\u001b[1;34m(soup)\u001b[0m\n\u001b[0;32m     24\u001b[0m \u001b[1;33m\u001b[0m\u001b[0m\n\u001b[0;32m     25\u001b[0m \u001b[1;32mdef\u001b[0m \u001b[0mget_table\u001b[0m\u001b[1;33m(\u001b[0m\u001b[0msoup\u001b[0m\u001b[1;33m:\u001b[0m \u001b[0mBeautifulSoup\u001b[0m\u001b[1;33m)\u001b[0m \u001b[1;33m->\u001b[0m \u001b[0mpd\u001b[0m\u001b[1;33m.\u001b[0m\u001b[0mDataFrame\u001b[0m\u001b[1;33m:\u001b[0m\u001b[1;33m\u001b[0m\u001b[1;33m\u001b[0m\u001b[0m\n\u001b[1;32m---> 26\u001b[1;33m     \u001b[0mtable\u001b[0m \u001b[1;33m=\u001b[0m \u001b[0msoup\u001b[0m\u001b[1;33m.\u001b[0m\u001b[0mfind_all\u001b[0m\u001b[1;33m(\u001b[0m\u001b[1;34m'table'\u001b[0m\u001b[1;33m)\u001b[0m\u001b[1;33m[\u001b[0m\u001b[1;36m0\u001b[0m\u001b[1;33m]\u001b[0m\u001b[1;33m\u001b[0m\u001b[1;33m\u001b[0m\u001b[0m\n\u001b[0m\u001b[0;32m     27\u001b[0m     \u001b[0mdata\u001b[0m \u001b[1;33m=\u001b[0m \u001b[1;33m[\u001b[0m\u001b[1;33m]\u001b[0m\u001b[1;33m\u001b[0m\u001b[1;33m\u001b[0m\u001b[0m\n\u001b[0;32m     28\u001b[0m     \u001b[0mheadings\u001b[0m \u001b[1;33m=\u001b[0m \u001b[1;33m[\u001b[0m\u001b[0mth\u001b[0m\u001b[1;33m.\u001b[0m\u001b[0mget_text\u001b[0m\u001b[1;33m(\u001b[0m\u001b[1;33m)\u001b[0m \u001b[1;32mfor\u001b[0m \u001b[0mth\u001b[0m \u001b[1;32min\u001b[0m \u001b[0mtable\u001b[0m\u001b[1;33m.\u001b[0m\u001b[0mfind\u001b[0m\u001b[1;33m(\u001b[0m\u001b[1;34m\"tr\"\u001b[0m\u001b[1;33m)\u001b[0m\u001b[1;33m.\u001b[0m\u001b[0mfind_all\u001b[0m\u001b[1;33m(\u001b[0m\u001b[1;34m\"th\"\u001b[0m\u001b[1;33m)\u001b[0m\u001b[1;33m]\u001b[0m\u001b[1;33m[\u001b[0m\u001b[1;36m1\u001b[0m\u001b[1;33m:\u001b[0m\u001b[1;33m]\u001b[0m\u001b[1;33m\u001b[0m\u001b[1;33m\u001b[0m\u001b[0m\n",
      "\u001b[1;31mIndexError\u001b[0m: list index out of range"
     ]
    }
   ],
   "source": [
    "#Getting BattingData together\n",
    "BattingStats2010 = batting_stats_range('2010-01-01', '2010-12-31')\n",
    "time.sleep(5)\n",
    "BattingStats2010['year_ID'] = 2010\n",
    "\n",
    "BattingStats2011 = batting_stats_range('2011-01-01', '2011-12-31')\n",
    "time.sleep(5)\n",
    "BattingStats2011['year_ID'] = 2011\n",
    "\n",
    "BattingStats2012 = batting_stats_range('2012-01-01', '2012-12-31')\n",
    "time.sleep(5)\n",
    "BattingStats2012['year_ID'] = 2012\n",
    "\n",
    "BattingStats2013 = batting_stats_range('2013-01-01', '2013-12-31')\n",
    "time.sleep(5)\n",
    "BattingStats2013['year_ID'] = 2013\n",
    "\n",
    "BattingStats2014 = batting_stats_range('2014-01-01', '2014-12-31')\n",
    "time.sleep(5)\n",
    "BattingStats2014['year_ID'] = 2014\n",
    "\n",
    "BattingStats2015 = batting_stats_range('2015-01-01', '2015-12-31')\n",
    "time.sleep(5)\n",
    "BattingStats2015['year_ID'] = 2015\n",
    "\n",
    "BattingStats2016 = batting_stats_range('2016-01-01', '2016-12-31')\n",
    "time.sleep(5)\n",
    "BattingStats2016['year_ID'] = 2016\n",
    "\n",
    "BattingStats2017 = batting_stats_range('2017-01-01', '2017-12-31')\n",
    "time.sleep(5)\n",
    "BattingStats2017['year_ID'] = 2017\n",
    "\n",
    "BattingStats2018 = batting_stats_range('2018-01-01', '2018-12-31')\n",
    "time.sleep(5)\n",
    "BattingStats2018['year_ID'] = 2018\n",
    "\n",
    "BattingStats2019 = batting_stats_range('2019-01-01', '2019-12-31')\n",
    "time.sleep(5)\n",
    "BattingStats2019['year_ID'] = 2019\n",
    "\n",
    "BattingStats2020 = batting_stats_range('2020-01-01', '2020-12-31')\n",
    "time.sleep(5)\n",
    "BattingStats2020['year_ID'] = 2020\n",
    "\n",
    "BattingStats2021 = batting_stats_range('2021-01-01', '2021-12-31')\n",
    "time.sleep(5)\n",
    "BattingStats2021['year_ID'] = 2021\n",
    "\n",
    "BattingStatsComplete = pd.concat([BattingStats2010, BattingStats2011, BattingStats2012, BattingStats2013, BattingStats2014, BattingStats2015, BattingStats2016, BattingStats2017, BattingStats2018, BattingStats2019, BattingStats2020, BattingStats2021], axis = 0)"
   ]
  },
  {
   "cell_type": "code",
   "execution_count": null,
   "metadata": {},
   "outputs": [],
   "source": [
    "PitchingData2010 = pitching_stats_range('2010-01-01', '2010-12-31')\n",
    "time.sleep(5)\n",
    "PitchingData2010['year_ID'] = 2010\n",
    "\n",
    "PitchingData2011 = pitching_stats_range('2011-01-01', '2011-12-31')\n",
    "time.sleep(5)\n",
    "PitchingData2011['year_ID'] = 2011\n",
    "\n",
    "PitchingData2012 = pitching_stats_range('2012-01-01', '2012-12-31')\n",
    "time.sleep(5)\n",
    "PitchingData2012['year_ID'] = 2012\n",
    "\n",
    "PitchingData2013 = pitching_stats_range('2013-01-01', '2013-12-31')\n",
    "time.sleep(5)\n",
    "PitchingData2013['year_ID'] = 2013\n",
    "\n",
    "PitchingData2014 = pitching_stats_range('2014-01-01', '2014-12-31')\n",
    "time.sleep(5)\n",
    "PitchingData2014['year_ID'] = 2014\n",
    "\n",
    "PitchingData2015 = pitching_stats_range('2015-01-01', '2015-12-31')\n",
    "time.sleep(5)\n",
    "PitchingData2015['year_ID'] = 2015\n",
    "\n",
    "PitchingData2016 = pitching_stats_range('2016-01-01', '2016-12-31')\n",
    "time.sleep(5)\n",
    "PitchingData2016['year_ID'] = 2016\n",
    "\n",
    "PitchingData2017 = pitching_stats_range('2017-01-01', '2017-12-31')\n",
    "time.sleep(5)\n",
    "PitchingData2017['year_ID'] = 2017\n",
    "\n",
    "PitchingData2018 = pitching_stats_range('2018-01-01', '2018-12-31')\n",
    "time.sleep(5)\n",
    "PitchingData2018['year_ID'] = 2018\n",
    "\n",
    "PitchingData2019 = pitching_stats_range('2019-01-01', '2019-12-31')\n",
    "time.sleep(5)\n",
    "PitchingData2019['year_ID'] = 2019\n",
    "\n",
    "PitchingData2020 = pitching_stats_range('2020-01-01', '2020-12-31')\n",
    "time.sleep(5)\n",
    "PitchingData2020['year_ID'] = 2020\n",
    "\n",
    "PitchingData2021 = pitching_stats_range('2021-01-01', '2021-12-31')\n",
    "time.sleep(5)\n",
    "PitchingData2021['year_ID'] = 2021\n",
    "\n",
    "PitchingStatsComplete = pd.concat([PitchingData2010, PitchingData2011, PitchingData2012, PitchingData2013, PitchingData2014, PitchingData2015, PitchingData2016, PitchingData2017, PitchingData2018, PitchingData2019, PitchingData2020, PitchingData2021], ignore_index = True, axis = 0)"
   ]
  },
  {
   "cell_type": "code",
   "execution_count": null,
   "metadata": {},
   "outputs": [],
   "source": [
    "BattingWar = bwar_bat()"
   ]
  },
  {
   "cell_type": "code",
   "execution_count": null,
   "metadata": {},
   "outputs": [],
   "source": [
    "PitchingWar = bwar_pitch()"
   ]
  },
  {
   "cell_type": "code",
   "execution_count": null,
   "metadata": {},
   "outputs": [],
   "source": [
    "#uploading BaseballRosters\n",
    "BaseballRosters = pd.read_csv('C:\\\\Users\\\\Gavin\\\\Downloads\\\\BaseballRosters.csv', engine = 'python')"
   ]
  },
  {
   "cell_type": "code",
   "execution_count": null,
   "metadata": {},
   "outputs": [],
   "source": [
    "#Making 2022 datasets\n",
    "\n",
    "BattingData2022 = batting_stats_range('2022-01-01', '2022-12-31')\n",
    "time.sleep(5)\n",
    "BattingData2022['year_ID'] = 2022\n",
    "\n",
    "PitchingData2022 = pitching_stats_range('2022-01-01', '2022-12-31')\n",
    "time.sleep(5)\n",
    "PitchingData2022['year_ID'] = 2022"
   ]
  },
  {
   "cell_type": "code",
   "execution_count": null,
   "metadata": {},
   "outputs": [],
   "source": [
    "#Getting 2022 WARs\n",
    "BattingWar2022 = bwar_bat()\n",
    "PitchingWar2022 = bwar_pitch()"
   ]
  },
  {
   "cell_type": "code",
   "execution_count": null,
   "metadata": {},
   "outputs": [],
   "source": [
    "BaseballRosters2022 = pd.read_csv('C:\\\\Users\\\\Gavin\\\\Downloads\\\\BaseballRosters2022.csv', engine = 'python')"
   ]
  },
  {
   "cell_type": "code",
   "execution_count": null,
   "metadata": {},
   "outputs": [],
   "source": [
    "MLBWinPercents = pd.read_csv('C:\\\\Users\\\\Gavin\\\\Downloads\\\\MLBWinPercentages.csv', engine = 'python')"
   ]
  },
  {
   "cell_type": "markdown",
   "metadata": {},
   "source": [
    "## List of datasets\n",
    "### BattingStatsComplete\n",
    "### PitchingStatsComplete\n",
    "### BattingWar\n",
    "### PitchingWar\n",
    "### BaseballRosters\n",
    "### BattingData2022\n",
    "### PitchingData2022\n",
    "### BaseballRosters2022\n",
    "### BattingWar2022\n",
    "### PitchingWar2022\n",
    "### MLBWinPercents"
   ]
  },
  {
   "cell_type": "markdown",
   "metadata": {},
   "source": [
    "# Cleaning Datasets Pre-Merge\n",
    "## Datasets to Merge\n",
    "#### BattingStatsComplete + BattingWar + BaseballRosters + MLBWinPercents\n",
    "#### PitchingStatsComplete + PitchingWar + BaseballRosters + MLBWinPercents\n",
    "#### BattingData2022 + BattingWar2022 + BaseballRosters2022 + MLBWinPercents\n",
    "#### PitchingData2022 + PitchingWar2022 + BaseballRosters2022 + MLBWinPercents\n",
    "\n",
    "## 2022 data will be test, the rest will be training"
   ]
  },
  {
   "cell_type": "code",
   "execution_count": null,
   "metadata": {},
   "outputs": [],
   "source": [
    "#First step is removing all odd encoding\n",
    "import codecs"
   ]
  },
  {
   "cell_type": "code",
   "execution_count": null,
   "metadata": {},
   "outputs": [],
   "source": [
    "BattingStatsComplete['Name'] = BattingStatsComplete['Name'].apply(lambda x: codecs.escape_decode(x)[0].decode('utf-8'))\n",
    "PitchingStatsComplete['Name'] = PitchingStatsComplete['Name'].apply(lambda x: codecs.escape_decode(x)[0].decode('utf-8'))\n",
    "BattingWar['name_common'] = BattingWar['name_common'].apply(lambda x: codecs.escape_decode(x)[0].decode('utf-8'))\n",
    "PitchingWar['name_common'] = PitchingWar['name_common'].apply(lambda x: codecs.escape_decode(x)[0].decode('utf-8'))\n",
    "BaseballRosters['Players'] = BaseballRosters['Players'].apply(lambda x: codecs.escape_decode(x)[0].decode('utf-8'))\n",
    "BattingData2022['Name'] = BattingData2022['Name'].apply(lambda x: codecs.escape_decode(x)[0].decode('utf-8'))\n",
    "PitchingData2022['Name'] = PitchingData2022['Name'].apply(lambda x: codecs.escape_decode(x)[0].decode('utf-8'))\n",
    "BattingWar2022['name_common'] = BattingWar2022['name_common'].apply(lambda x: codecs.escape_decode(x)[0].decode('utf-8'))\n",
    "PitchingWar2022['name_common'] = PitchingWar2022['name_common'].apply(lambda x: codecs.escape_decode(x)[0].decode('utf-8'))"
   ]
  },
  {
   "cell_type": "code",
   "execution_count": null,
   "metadata": {},
   "outputs": [],
   "source": [
    "#Now that all odd encoding is removed, now accents are needed to be removed\n",
    "#First create a dictionary to use for all of them\n",
    "Letterdictionary = {'Š':'S', 'Ž':'Z', 'š':'s', 'ž':'z', 'Ÿ':'Y',\n",
    "                    'À':'A', 'Á':'A', 'Â':'A', 'Ã':'A', 'Ä':'A',\n",
    "                    'Å':'A', 'Ç':'C', 'È':'E', 'É':'E', 'Ê':'E',\n",
    "                    'Ë':'E', 'Ì':'I', 'Í':'I', 'Î':'I', 'Ï':'I',\n",
    "                    'Ð':'D', 'Ñ':'N', 'Ò':'O', 'Ó':'O', 'Ô':'O',\n",
    "                    'Õ':'O', 'Ö':'O', 'Ù':'U', 'Ú':'U', 'Û':'U',\n",
    "                    'Ü':'U', 'Ý':'Y', 'à':'a', 'á':'a', 'â':'a',\n",
    "                    'ã':'a', 'ä':'a', 'å':'a', 'ç':'c', 'è':'e',\n",
    "                    'é':'e', 'ê':'e', 'ë':'e', 'ì':'i', 'í':'i',\n",
    "                    'î':'i', 'ï':'i', 'ð':'d', 'ñ':'n', 'ò':'o',\n",
    "                    'ó':'o', 'ô':'o', 'õ':'o', 'ö':'o', 'ù':'u',\n",
    "                    'ú':'u', 'û':'u', 'ü':'u', 'ý':'y', 'ÿ':'y',\n",
    "                    '.':''}\n"
   ]
  },
  {
   "cell_type": "code",
   "execution_count": null,
   "metadata": {},
   "outputs": [],
   "source": [
    "for key in Letterdictionary.keys():\n",
    "    BattingStatsComplete['Name']=BattingStatsComplete['Name'].str.replace(key, Letterdictionary[key])"
   ]
  },
  {
   "cell_type": "code",
   "execution_count": null,
   "metadata": {},
   "outputs": [],
   "source": [
    "for key in Letterdictionary.keys():\n",
    "    PitchingStatsComplete['Name']=PitchingStatsComplete['Name'].str.replace(key, Letterdictionary[key])"
   ]
  },
  {
   "cell_type": "code",
   "execution_count": null,
   "metadata": {},
   "outputs": [],
   "source": [
    "for key in Letterdictionary.keys():\n",
    "    BattingWar['name_common']=BattingWar['name_common'].str.replace(key, Letterdictionary[key])"
   ]
  },
  {
   "cell_type": "code",
   "execution_count": null,
   "metadata": {},
   "outputs": [],
   "source": [
    "for key in Letterdictionary.keys():\n",
    "    PitchingWar['name_common']=PitchingWar['name_common'].str.replace(key, Letterdictionary[key])"
   ]
  },
  {
   "cell_type": "code",
   "execution_count": null,
   "metadata": {},
   "outputs": [],
   "source": [
    "for key in Letterdictionary.keys():\n",
    "    BattingData2022['Name']=BattingData2022['Name'].str.replace(key, Letterdictionary[key])"
   ]
  },
  {
   "cell_type": "code",
   "execution_count": null,
   "metadata": {},
   "outputs": [],
   "source": [
    "for key in Letterdictionary.keys():\n",
    "    PitchingData2022['Name']=PitchingData2022['Name'].str.replace(key, Letterdictionary[key])"
   ]
  },
  {
   "cell_type": "code",
   "execution_count": null,
   "metadata": {},
   "outputs": [],
   "source": [
    "for key in Letterdictionary.keys():\n",
    "    BattingWar2022['name_common']= BattingWar2022['name_common'].str.replace(key, Letterdictionary[key])"
   ]
  },
  {
   "cell_type": "code",
   "execution_count": null,
   "metadata": {},
   "outputs": [],
   "source": [
    "for key in Letterdictionary.keys():\n",
    "    PitchingWar2022['name_common']= PitchingWar2022['name_common'].str.replace(key, Letterdictionary[key])"
   ]
  },
  {
   "cell_type": "code",
   "execution_count": null,
   "metadata": {},
   "outputs": [],
   "source": [
    "for key in Letterdictionary.keys():\n",
    "    BaseballRosters['Players'] = BaseballRosters['Players'].str.replace(key, Letterdictionary[key])"
   ]
  },
  {
   "cell_type": "code",
   "execution_count": null,
   "metadata": {},
   "outputs": [],
   "source": [
    "for key in Letterdictionary.keys():\n",
    "    BaseballRosters2022['Players'] = BaseballRosters2022['Players'].str.replace(key, Letterdictionary[key])"
   ]
  },
  {
   "cell_type": "markdown",
   "metadata": {},
   "source": [
    "## First going to clean the War datasets"
   ]
  },
  {
   "cell_type": "code",
   "execution_count": null,
   "metadata": {},
   "outputs": [],
   "source": [
    "#Cleaning Batting War by dropping any pitchers that may be in the data\n",
    "BattingWar.drop(BattingWar[BattingWar['pitcher'] == 'Y'].index, inplace = True)"
   ]
  },
  {
   "cell_type": "code",
   "execution_count": null,
   "metadata": {},
   "outputs": [],
   "source": [
    "#Dropping PitchingWar Columns leaving identifiers \n",
    "PitchingWar = PitchingWar.drop(columns = ['stint_ID', 'lg_ID', 'G', 'GS', 'RA', 'xRA', 'BIP', 'BIP_perc', 'salary', 'ERA_plus', 'WAR_rep', 'WAA', 'WAA_adj'])"
   ]
  },
  {
   "cell_type": "code",
   "execution_count": null,
   "metadata": {},
   "outputs": [],
   "source": [
    "#Dropping BattingWar Columns leaving identifiers\n",
    "BattingWar = BattingWar.drop(columns = ['stint_ID', 'lg_ID', 'G', 'PA', 'salary', 'runs_above_avg', 'runs_above_avg_off', 'runs_above_avg_def', 'WAR_rep', 'WAA'])"
   ]
  },
  {
   "cell_type": "code",
   "execution_count": null,
   "metadata": {},
   "outputs": [],
   "source": [
    "BattingWar = BattingWar.drop('pitcher', axis = 1)"
   ]
  },
  {
   "cell_type": "code",
   "execution_count": null,
   "metadata": {},
   "outputs": [],
   "source": [
    "#Removing all data before 2010\n",
    "BattingWar.drop(BattingWar[BattingWar['year_ID'] < 2010].index, inplace = True)\n",
    "PitchingWar.drop(PitchingWar[PitchingWar['year_ID'] < 2010].index, inplace = True)"
   ]
  },
  {
   "cell_type": "code",
   "execution_count": null,
   "metadata": {},
   "outputs": [],
   "source": [
    "#need to run drop again to remove 2022 data\n",
    "BattingWar.drop(BattingWar[BattingWar['year_ID'] == 2022].index, inplace = True)\n",
    "PitchingWar.drop(PitchingWar[PitchingWar['year_ID'] == 2022].index, inplace = True)"
   ]
  },
  {
   "cell_type": "code",
   "execution_count": null,
   "metadata": {},
   "outputs": [],
   "source": [
    "#Updating Florida to Miami due to location change, they are the same team\n",
    "BattingWar.loc[BattingWar['team_ID'] == 'FLA', 'team_ID'] = 'MIA'"
   ]
  },
  {
   "cell_type": "code",
   "execution_count": null,
   "metadata": {},
   "outputs": [],
   "source": [
    "#Updating Florida to Miami due to location change, they are the same team\n",
    "PitchingWar.loc[PitchingWar['team_ID'] == 'FLA', 'team_ID'] = 'MIA'"
   ]
  },
  {
   "cell_type": "code",
   "execution_count": null,
   "metadata": {},
   "outputs": [],
   "source": [
    "#Doing the same for 2022"
   ]
  },
  {
   "cell_type": "code",
   "execution_count": null,
   "metadata": {},
   "outputs": [],
   "source": [
    "#Cleaning Batting War by dropping any pitchers that may be in the data\n",
    "BattingWar2022.drop(BattingWar2022[BattingWar2022['pitcher'] == 'Y'].index, inplace = True)"
   ]
  },
  {
   "cell_type": "code",
   "execution_count": null,
   "metadata": {},
   "outputs": [],
   "source": [
    "#Dropping PitchingWar Columns leaving identifiers \n",
    "PitchingWar2022 = PitchingWar2022.drop(columns = ['stint_ID', 'lg_ID', 'G', 'GS', 'RA', 'xRA', 'BIP', 'BIP_perc', 'salary', 'ERA_plus', 'WAR_rep', 'WAA', 'WAA_adj'])\n",
    "\n",
    "#Dropping BattingWar Columns leaving identifiers\n",
    "BattingWar2022 = BattingWar2022.drop(columns = ['stint_ID', 'lg_ID', 'G', 'PA', 'salary', 'runs_above_avg', 'runs_above_avg_off', 'runs_above_avg_def', 'WAR_rep', 'WAA'])\n",
    "\n",
    "BattingWar2022 = BattingWar2022.drop('pitcher', axis = 1)"
   ]
  },
  {
   "cell_type": "code",
   "execution_count": null,
   "metadata": {},
   "outputs": [],
   "source": [
    "#Removing all data before 2010\n",
    "BattingWar2022.drop(BattingWar2022[BattingWar2022['year_ID'] < 2022].index, inplace = True)\n",
    "PitchingWar2022.drop(PitchingWar2022[PitchingWar2022['year_ID'] < 2022].index, inplace = True)\n",
    "\n"
   ]
  },
  {
   "cell_type": "code",
   "execution_count": null,
   "metadata": {},
   "outputs": [],
   "source": [
    "#Updating Florida to Miami due to location change, they are the same team\n",
    "BattingWar2022.loc[BattingWar2022['team_ID'] == 'FLA', 'team_ID'] = 'MIA'\n",
    "\n",
    "#Updating Florida to Miami due to location change, they are the same team\n",
    "PitchingWar2022.loc[PitchingWar2022['team_ID'] == 'FLA', 'team_ID'] = 'MIA'"
   ]
  },
  {
   "cell_type": "markdown",
   "metadata": {},
   "source": [
    "## Updating Team IDs to match"
   ]
  },
  {
   "cell_type": "code",
   "execution_count": null,
   "metadata": {},
   "outputs": [],
   "source": [
    "#Need to update team names in BaseballRosters to match both Pitching and BattingWar\n",
    "BaseballRosters.loc[BaseballRosters['Team'] == 'KC', 'Team'] = 'KCR'\n",
    "BaseballRosters.loc[BaseballRosters['Team'] == 'SF', 'Team'] = 'SFG'\n",
    "BaseballRosters.loc[BaseballRosters['Team'] == 'SD', 'Team'] = 'SDP'\n",
    "BaseballRosters.loc[BaseballRosters['Team'] == 'TB', 'Team'] = 'TBR'\n",
    "BaseballRosters.loc[BaseballRosters['Team'] == 'WSH', 'Team'] = 'WSN'"
   ]
  },
  {
   "cell_type": "code",
   "execution_count": null,
   "metadata": {},
   "outputs": [],
   "source": [
    "BaseballRosters2022.head()"
   ]
  },
  {
   "cell_type": "markdown",
   "metadata": {},
   "source": [
    "## Finding and removing Duplicates in BaseballRosters (In case they played for 2 teams same year)"
   ]
  },
  {
   "cell_type": "code",
   "execution_count": null,
   "metadata": {},
   "outputs": [],
   "source": [
    "#finding duplicate records\n",
    "AllDuplicates = BaseballRosters[BaseballRosters[['Players', 'Year']].duplicated(keep = False)]"
   ]
  },
  {
   "cell_type": "code",
   "execution_count": null,
   "metadata": {},
   "outputs": [],
   "source": [
    "AllDuplicates2022 = BaseballRosters2022[BaseballRosters2022[['Players', 'year_ID']].duplicated(keep = False)]"
   ]
  },
  {
   "cell_type": "code",
   "execution_count": null,
   "metadata": {},
   "outputs": [],
   "source": [
    "RemoveDuplicates = AllDuplicates.groupby(['Players', 'Year']).sample(n=1)\n",
    "RemoveDuplicates2022 = AllDuplicates2022.groupby(['Players', 'year_ID']).sample(n=1)"
   ]
  },
  {
   "cell_type": "code",
   "execution_count": null,
   "metadata": {},
   "outputs": [],
   "source": [
    "BaseballRosters = pd.concat([BaseballRosters, AllDuplicates]).drop_duplicates(keep = False)\n",
    "BaseballRosters = pd.concat([BaseballRosters, RemoveDuplicates],ignore_index = True, axis = 0)\n",
    "\n",
    "BaseballRosters2022 = pd.concat([BaseballRosters2022, AllDuplicates2022]).drop_duplicates(keep = False)\n",
    "BaseballRosters2022 = pd.concat([BaseballRosters2022, RemoveDuplicates2022],ignore_index = True, axis = 0)"
   ]
  },
  {
   "cell_type": "markdown",
   "metadata": {},
   "source": [
    "## Renaming column names for Merging"
   ]
  },
  {
   "cell_type": "code",
   "execution_count": null,
   "metadata": {},
   "outputs": [],
   "source": [
    "BaseballRosters.rename(columns = {'PlayersMinusAccents': 'Name', 'Team': 'team_ID', 'Year': 'year_ID'}, inplace = True)\n",
    "BattingStatsComplete.rename(columns = {'mlbID': 'mlb_ID'}, inplace = True)\n",
    "PitchingStatsComplete.rename(columns = {'mlbID': 'mlb_ID'}, inplace = True)\n",
    "BattingWar.rename(columns = {'name_common': 'Name'}, inplace = True)\n",
    "BattingWar2022.rename(columns = {'name_common': 'Name'}, inplace = True)\n",
    "PitchingWar.rename(columns = {'name_common': 'Name'}, inplace = True)\n",
    "PitchingWar2022.rename(columns = {'name_common': 'Name'}, inplace = True)\n",
    "BaseballRosters2022.rename(columns = {'Players': 'Name'}, inplace = True)\n",
    "BattingData2022.rename(columns = {'mlbID': 'mlb_ID'}, inplace = True)\n",
    "PitchingData2022.rename(columns = {'mlbID': 'mlb_ID'}, inplace = True)"
   ]
  },
  {
   "cell_type": "markdown",
   "metadata": {},
   "source": [
    "## Dropping extra columns prior to merging"
   ]
  },
  {
   "cell_type": "code",
   "execution_count": null,
   "metadata": {},
   "outputs": [],
   "source": [
    "BaseballRosters = BaseballRosters.drop('Players', axis = 1)"
   ]
  },
  {
   "cell_type": "markdown",
   "metadata": {},
   "source": [
    "## Merging - Will have 4 datasets after"
   ]
  },
  {
   "cell_type": "code",
   "execution_count": null,
   "metadata": {},
   "outputs": [],
   "source": [
    "BattingWarMerged = BattingWar.merge(BaseballRosters, how = 'inner', on = ['Name', 'year_ID'])\n",
    "PitchingWarMerged = PitchingWar.merge(BaseballRosters, how = 'inner', on = ['Name', 'year_ID'])\n",
    "BattingWarMerged['mlb_ID'] = BattingWarMerged['mlb_ID'].astype(int)\n",
    "PitchingWarMerged['mlb_ID'] = PitchingWarMerged['mlb_ID'].astype(int)"
   ]
  },
  {
   "cell_type": "code",
   "execution_count": null,
   "metadata": {},
   "outputs": [],
   "source": [
    "BattingWarMerged2022 = BattingWar2022.merge(BaseballRosters2022, how = 'inner', on = ['Name', 'year_ID'])\n",
    "PitchingWarMerged2022 = PitchingWar2022.merge(BaseballRosters2022, how = 'inner', on = ['Name', 'year_ID'])\n",
    "BattingWarMerged2022['mlb_ID'] = BattingWarMerged2022['mlb_ID'].astype(int)\n",
    "PitchingWarMerged2022['mlb_ID'] = PitchingWarMerged2022['mlb_ID'].astype(int)"
   ]
  },
  {
   "cell_type": "code",
   "execution_count": null,
   "metadata": {},
   "outputs": [],
   "source": [
    "PitchingStatsComplete['mlb_ID'] = PitchingStatsComplete['mlb_ID'].astype(int)"
   ]
  },
  {
   "cell_type": "code",
   "execution_count": null,
   "metadata": {},
   "outputs": [],
   "source": [
    "PitchingData2022['mlb_ID'] = PitchingData2022['mlb_ID'].astype(int)"
   ]
  },
  {
   "cell_type": "code",
   "execution_count": null,
   "metadata": {},
   "outputs": [],
   "source": [
    "MergedBattingData = BattingStatsComplete.merge(BattingWarMerged, how = 'outer', on = ['mlb_ID', 'year_ID'])\n",
    "MergedPitchingData = PitchingStatsComplete.merge(PitchingWarMerged, how = 'outer', on = ['mlb_ID', 'year_ID'])\n",
    "MergedBattingData2022 = BattingData2022.merge(BattingWarMerged2022, how = 'outer', on = ['mlb_ID', 'year_ID'])\n",
    "MergedPitchingData2022 = PitchingData2022.merge(PitchingWarMerged2022, how = 'outer', on = ['mlb_ID', 'year_ID'])"
   ]
  },
  {
   "cell_type": "code",
   "execution_count": null,
   "metadata": {},
   "outputs": [],
   "source": [
    "MLBWinPercents.head()"
   ]
  },
  {
   "cell_type": "code",
   "execution_count": null,
   "metadata": {},
   "outputs": [],
   "source": [
    "MLBWinPercents.rename(columns = {'team_ID': 'team_ID_x'}, inplace = True)"
   ]
  },
  {
   "cell_type": "code",
   "execution_count": null,
   "metadata": {},
   "outputs": [],
   "source": [
    "FinalBattingData = MergedBattingData.merge(MLBWinPercents, how = 'outer', on= ['team_ID_x', 'year_ID'])\n",
    "FinalPitchingData = MergedPitchingData.merge(MLBWinPercents, how = 'outer', on= ['team_ID_x', 'year_ID'])\n",
    "FinalBattingData2022 = MergedBattingData2022.merge(MLBWinPercents, how = 'outer', on= ['team_ID_x', 'year_ID'])\n",
    "FinalPitchingData2022 = MergedPitchingData2022.merge(MLBWinPercents, how = 'outer', on=['team_ID_x', 'year_ID'])"
   ]
  },
  {
   "cell_type": "markdown",
   "metadata": {},
   "source": [
    "## Cleaning nans and excess columns from the datasets"
   ]
  },
  {
   "cell_type": "code",
   "execution_count": null,
   "metadata": {},
   "outputs": [],
   "source": [
    "FinalBattingData.dropna(inplace = True)"
   ]
  },
  {
   "cell_type": "code",
   "execution_count": null,
   "metadata": {},
   "outputs": [],
   "source": [
    "#Due to there being differing pitching roles, some players may not have wins or saves or losses. These NANsare replaced with 0.\n",
    "FinalPitchingData['W'].fillna(0,inplace = True)\n",
    "FinalPitchingData['L'].fillna(0, inplace = True)\n",
    "FinalPitchingData['SV'].fillna(0, inplace = True)\n",
    "\n",
    "#Due to there being differing pitching roles, some players may not have wins or saves or losses. These NANsare replaced with 0.\n",
    "FinalPitchingData2022['W'].fillna(0,inplace = True)\n",
    "FinalPitchingData2022['L'].fillna(0, inplace = True)\n",
    "FinalPitchingData2022['SV'].fillna(0, inplace = True)\n"
   ]
  },
  {
   "cell_type": "code",
   "execution_count": null,
   "metadata": {},
   "outputs": [],
   "source": [
    "FinalPitchingData.dropna(inplace = True)\n",
    "FinalPitchingData2022.dropna(inplace = True)"
   ]
  },
  {
   "cell_type": "code",
   "execution_count": null,
   "metadata": {},
   "outputs": [],
   "source": [
    "FinalBattingData2022.dropna(inplace = True)"
   ]
  },
  {
   "cell_type": "code",
   "execution_count": null,
   "metadata": {},
   "outputs": [],
   "source": [
    "FinalBattingData = FinalBattingData.drop(columns = ['#days', 'Lev', 'Tm', 'team_ID_x', 'Name_y'])"
   ]
  },
  {
   "cell_type": "code",
   "execution_count": null,
   "metadata": {},
   "outputs": [],
   "source": [
    "FinalBattingData2022 = FinalBattingData2022.drop(columns = ['#days', 'Lev', 'Tm', 'team_ID_x', 'Name_y'])\n"
   ]
  },
  {
   "cell_type": "code",
   "execution_count": null,
   "metadata": {},
   "outputs": [],
   "source": [
    "FinalPitchingData = FinalPitchingData.drop(columns = ['#days', 'Lev', 'Tm', 'team_ID_x', 'Name_y'])\n",
    "FinalPitchingData2022 = FinalPitchingData2022.drop(columns = ['#days', 'Lev', 'Tm', 'team_ID_x', 'Name_y'])"
   ]
  },
  {
   "cell_type": "code",
   "execution_count": null,
   "metadata": {},
   "outputs": [],
   "source": [
    "FinalBattingData = FinalBattingData[FinalBattingData['G'] > 10]\n",
    "FinalBattingData2022 = FinalBattingData2022[FinalBattingData2022['G'] > 10]\n",
    "FinalPitchingData = FinalPitchingData[FinalPitchingData['G'] > 10]\n",
    "FinalPitchingData2022 = FinalPitchingData2022[FinalPitchingData2022['G'] > 10]\n"
   ]
  },
  {
   "cell_type": "code",
   "execution_count": null,
   "metadata": {},
   "outputs": [],
   "source": [
    "plt.subplots(figsize = (15,15))\n",
    "sns.heatmap(FinalBattingData[['G', 'PA', 'AB', 'R', 'H', '2B', '3B', 'HR', 'RBI', 'BB', 'IBB', 'SO', 'HBP', 'SH', 'SF', 'GDP',\n",
    "                     'SB', 'CS', 'BA', 'OBP', 'SLG', 'OPS']].corr(), annot = True)"
   ]
  },
  {
   "cell_type": "code",
   "execution_count": null,
   "metadata": {},
   "outputs": [],
   "source": [
    "plt.subplots(figsize = (20, 20))\n",
    "sns.heatmap(FinalPitchingData[['G', 'GS', 'W', 'L', 'SV', 'IP', 'H', 'R', 'ER', 'BB', 'SO', 'HR', 'HBP',\n",
    "                              'ERA', 'AB', '2B', '3B', 'IBB', 'GDP', 'SF', 'SB', 'CS', 'PO', 'BF', 'Pit', 'Str', 'StL',\n",
    "                              'StS', 'GB/FB', 'LD', 'PU', 'WHIP', 'BAbip', 'SO9', 'SO/W']].corr(), annot = True)"
   ]
  },
  {
   "cell_type": "code",
   "execution_count": null,
   "metadata": {},
   "outputs": [],
   "source": [
    "#columns to consider dropping in each dataset\n",
    "\n",
    "#In Batting, AB or PA, OPS is OBP+Slugging so probs can drop and keep one of them, hitting stats highly correlated but can't do much\n",
    "\n",
    "#In Pitching, Pit or BF, R or ER, still a lot of highly correlated variables...\n",
    "#Dropped G as well, other stats can make up for it"
   ]
  },
  {
   "cell_type": "code",
   "execution_count": null,
   "metadata": {},
   "outputs": [],
   "source": [
    "FinalBattingData = FinalBattingData.drop(columns = ['AB', 'SLG', 'OBP', 'G'])\n",
    "FinalBattingData2022 = FinalBattingData2022.drop(columns = ['AB', 'SLG', 'OBP', 'G'])"
   ]
  },
  {
   "cell_type": "code",
   "execution_count": null,
   "metadata": {},
   "outputs": [],
   "source": [
    "FinalPitchingData = FinalPitchingData.drop(columns = ['Pit', 'R', 'G'])\n",
    "FinalPitchingData2022 = FinalPitchingData2022.drop(columns = ['Pit', 'R', 'G'])"
   ]
  },
  {
   "cell_type": "code",
   "execution_count": null,
   "metadata": {},
   "outputs": [],
   "source": [
    "plt.subplots(figsize = (15,15))\n",
    "sns.heatmap(FinalBattingData[['PA', 'R', 'H', '2B', '3B', 'HR', 'RBI', 'BB', 'IBB', 'SO', 'HBP', 'SH', 'SF', 'GDP',\n",
    "                     'SB', 'CS', 'BA', 'OPS', 'WAR']].corr(), annot = True)"
   ]
  },
  {
   "cell_type": "code",
   "execution_count": null,
   "metadata": {},
   "outputs": [],
   "source": [
    "plt.subplots(figsize = (20, 20))\n",
    "sns.heatmap(FinalPitchingData[['GS', 'W', 'L', 'SV', 'IP', 'H', 'ER', 'BB', 'SO', 'HR', 'HBP',\n",
    "                              'ERA', 'AB', '2B', '3B', 'IBB', 'GDP', 'SF', 'SB', 'CS', 'PO', 'BF', 'Str', 'StL',\n",
    "                              'StS', 'GB/FB', 'LD', 'PU', 'WHIP', 'BAbip', 'SO9', 'SO/W', 'WAR']].corr(), annot = True)"
   ]
  },
  {
   "cell_type": "markdown",
   "metadata": {},
   "source": [
    "## EDA\n"
   ]
  },
  {
   "cell_type": "code",
   "execution_count": null,
   "metadata": {},
   "outputs": [],
   "source": [
    "sns.barplot(x = FinalBattingData['year_ID'], y = FinalBattingData['PA'])"
   ]
  },
  {
   "cell_type": "code",
   "execution_count": null,
   "metadata": {},
   "outputs": [],
   "source": [
    "sns.barplot(x = FinalPitchingData['year_ID'], y = FinalPitchingData['BF'])"
   ]
  },
  {
   "cell_type": "code",
   "execution_count": null,
   "metadata": {},
   "outputs": [],
   "source": [
    "#Since I dropped games,this is interesting to use these two new stats. BF seems to be trending down as time goes on\n",
    "#This makes sense given the frequency relief pitchers are used nowadays"
   ]
  },
  {
   "cell_type": "markdown",
   "metadata": {},
   "source": [
    "## Pickling the Files"
   ]
  },
  {
   "cell_type": "code",
   "execution_count": null,
   "metadata": {},
   "outputs": [],
   "source": [
    "FinalBattingData.to_pickle(\"./FinalBattingData.pkl\")\n",
    "FinalBattingData2022.to_pickle(\"./FinalBattingData2022.pkl\")\n",
    "FinalPitchingData.to_pickle(\"./FinalPitchingData.pkl\")\n",
    "FinalPitchingData2022.to_pickle(\"./FinalPitchingData2022.pkl\")"
   ]
  }
 ],
 "metadata": {
  "kernelspec": {
   "display_name": "Python 3",
   "language": "python",
   "name": "python3"
  },
  "language_info": {
   "codemirror_mode": {
    "name": "ipython",
    "version": 3
   },
   "file_extension": ".py",
   "mimetype": "text/x-python",
   "name": "python",
   "nbconvert_exporter": "python",
   "pygments_lexer": "ipython3",
   "version": "3.8.5"
  }
 },
 "nbformat": 4,
 "nbformat_minor": 4
}
